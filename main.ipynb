{
 "cells": [
  {
   "cell_type": "code",
   "execution_count": 1,
   "metadata": {},
   "outputs": [],
   "source": [
    "import matplotlib.pyplot as plt\n",
    "import pandas as pd\n",
    "import numpy as np\n",
    "import requests\n",
    "import urllib.parse\n",
    "from scipy.stats import linregress\n",
    "from api_keys import omdb_api_key\n",
    "from pprint import pprint\n",
    "import scipy.stats as st\n",
    "\n",
    "#print(omdb_api_key)\n",
    "\n",
    "# Sets the path to our movie csv file\n",
    "path = 'Resources/boxoffice.csv'\n"
   ]
  },
  {
   "cell_type": "code",
   "execution_count": null,
   "metadata": {},
   "outputs": [],
   "source": [
    "# Pulls in a list of ~16000 top movies of all time\n",
    "top_boxoffice_df = pd.read_csv(path)\n",
    "\n",
    "# Drops the maunally created index column\n",
    "top_boxoffice_df.drop(labels=['index'], axis=1, inplace=True)\n",
    "\n",
    "top_boxoffice_df"
   ]
  },
  {
   "cell_type": "code",
   "execution_count": null,
   "metadata": {},
   "outputs": [],
   "source": [
    "top1k_boxoffice_df = pd.read_csv(path, nrows = 1000)\n",
    "\n",
    "# Drops the maunally created index column\n",
    "top1k_boxoffice_df.drop(labels=['index'], axis=1, inplace=True)\n",
    "\n",
    "top1k_boxoffice_df"
   ]
  },
  {
   "cell_type": "code",
   "execution_count": null,
   "metadata": {},
   "outputs": [],
   "source": [
    "bot1k_boxoffice_df = pd.read_csv(path, skiprows= 15542, nrows = 1001, names=['rank', 'index', 'title', 'studio', 'lifetime_gross', 'year'])\n",
    "\n",
    "# Drops the maunally created index column\n",
    "bot1k_boxoffice_df.drop(labels=['index'], axis=1, inplace=True)\n",
    "\n",
    "bot1k_boxoffice_df"
   ]
  },
  {
   "cell_type": "code",
   "execution_count": null,
   "metadata": {
    "scrolled": true
   },
   "outputs": [],
   "source": [
    "# Creates a list of all of the movie titles in the top 1k movies from the dataframe\n",
    "movies_list = top1k_boxoffice_df['title'].tolist()\n",
    "\n",
    "# Creates empty lists for all of the information we want from the json requests\n",
    "req_imdbID = []\n",
    "req_titles = []\n",
    "req_studio = []\n",
    "req_boxoffice = []\n",
    "req_runtime = []\n",
    "req_age_rating = []\n",
    "req_release_date = []\n",
    "req_country = []\n",
    "req_genre = []\n",
    "req_imdb_rating = []\n",
    "req_imdb_votecount = []\n",
    "req_critic_rating = []\n",
    "req_directors = []\n",
    "\n",
    "print('Beginning OMDb data retriveal:')\n",
    "print('______________________________')\n",
    "\n",
    "try:\n",
    "    \n",
    "    # Loops through the dataframe and pulls the rest of  the information for the movies from OMDb API\n",
    "    for movie_title in movies_list:\n",
    "\n",
    "        # Encodes the entire movie title to account for characters\n",
    "        encoded_title = urllib.parse.quote(movie_title)\n",
    "\n",
    "        # Sets the base url for OMDb API and prints it out, comment out the printing function if using in public\n",
    "        omdb_url = f'http://www.omdbapi.com/?t={encoded_title}&apikey={omdb_api_key}'\n",
    "        print(f\"API Request URL: {omdb_url}\")\n",
    "\n",
    "        # Creates a request to the OMDb API\n",
    "        response = requests.get(omdb_url)\n",
    "        request = response.json()\n",
    "\n",
    "        # Tells us what is wrong with a request if it is not good\n",
    "        if response.status_code != 200 or request['Response'] == 'False':\n",
    "            print(f\"Failed to retrieve movie '{movie_title}' from OMDb API.\")\n",
    "            print(f\"Response: {request}\")\n",
    "            continue\n",
    "\n",
    "        # Skips tv series from the data set\n",
    "        if request['Type'] == 'series':\n",
    "            print(f\"'{movie_title}' is a TV series. Skipping...\")\n",
    "            continue\n",
    "\n",
    "        # Gets the studio of each movie when it loops through the list\n",
    "        studio_info = top1k_boxoffice_df.loc[top1k_boxoffice_df['title'] == movie_title, 'studio'].values[0]\n",
    "\n",
    "        # Adds the information of each title to each list\n",
    "        req_imdbID.append(request['imdbID'])\n",
    "        req_titles.append(request['Title'])\n",
    "        req_studio.append(studio_info)\n",
    "        req_boxoffice.append(request['BoxOffice'])\n",
    "        req_runtime.append(request['Runtime'])\n",
    "        req_age_rating.append(request['Rated'])\n",
    "        req_release_date.append(request['Released'])\n",
    "        req_country.append(request['Country'])\n",
    "        req_genre.append(request['Genre'])\n",
    "        req_imdb_rating.append(request['imdbRating'])\n",
    "        req_imdb_votecount.append(request['imdbVotes'])\n",
    "        req_critic_rating.append(request['Metascore'])\n",
    "        req_directors.append(request['Director'])\n",
    "\n",
    "# Prints any errors that occured\n",
    "except Exception as e:    \n",
    "    print('An error occurred:', str(e))\n",
    "\n",
    "print('______________________________')\n",
    "print('Data retrieval complete')\n",
    "\n",
    "    "
   ]
  },
  {
   "cell_type": "code",
   "execution_count": null,
   "metadata": {
    "scrolled": false
   },
   "outputs": [],
   "source": [
    "# Creates our usable dataframe for our movies\n",
    "total_movie_df = pd.DataFrame({\n",
    "    'IMDb ID': req_imdbID,\n",
    "    'Movie Title': req_titles,\n",
    "    'Studio': req_studio,\n",
    "    'Box Office Sales': req_boxoffice,\n",
    "    'Movie Runtime': req_runtime,\n",
    "    'Age Rating': req_age_rating,\n",
    "    'Release Date' : req_release_date,\n",
    "    'Country' : req_country,\n",
    "    'Genre': req_genre,\n",
    "    'IMDb Rating' : req_imdb_rating,\n",
    "    'IMDb Vote Count' : req_imdb_votecount,\n",
    "    'Critic Rating' : req_critic_rating,\n",
    "    'Director(s)' : req_directors,\n",
    "})\n",
    "\n",
    "\n",
    "total_movie_df"
   ]
  },
  {
   "cell_type": "code",
   "execution_count": null,
   "metadata": {},
   "outputs": [],
   "source": [
    "#runtime vs box office (scatter)\n",
    "\n",
    "#clean total_movie_df to better fit upcoming variables\n",
    "total_movie_df['Movie Runtime'] = total_movie_df['Movie Runtime'].str.replace(' min','').str.replace('N/A','0').astype(float)\n",
    "total_movie_df['Box Office Sales'] = total_movie_df['Box Office Sales'].str.replace('$','').str.replace(',','').str.replace('N/A','0').astype(float)\n",
    "\n",
    "#set runtime and box office\n",
    "runtime = total_movie_df['Movie Runtime']\n",
    "box_office = total_movie_df['Box Office Sales']\n",
    "\n",
    "#scatter plot, correlation coefficient and line regression\n",
    "print(f\"The correlation coefficient between movie runtime and box office sales is {round(st.pearsonr(runtime,box_office)[0],2)}\")\n",
    "m_slope, m_int, m_r, m_p, m_std_err = st.linregress(runtime, box_office)\n",
    "m_fit = m_slope * runtime + m_int\n",
    "plt.scatter(runtime, box_office)\n",
    "plt.plot(runtime,m_fit,\"-\",color='red')\n",
    "plt.ylim(0, 1000000000)\n",
    "plt.xlabel('Movie Runtime (min)')\n",
    "plt.ylabel('Box Office Sales (mil)')\n",
    "plt.title('Movie Runtime vs. Box Office Sales')\n",
    "\n",
    "#there is a weak positive correlation between movie runtime and how well they do in the box office. "
   ]
  },
  {
   "cell_type": "code",
   "execution_count": null,
   "metadata": {
    "scrolled": false
   },
   "outputs": [],
   "source": [
    "#genre vs box office (bar)\n",
    "\n",
    "#take top listed genre for each film\n",
    "total_movie_df['Genre'] = total_movie_df['Genre'].str.split(',').str[0]\n",
    "\n",
    "#find average box office for each genre, set genre variable for x-axis\n",
    "genre_boxoffice = total_movie_df.groupby('Genre')['Box Office Sales'].mean().drop(labels=['Family','N/A','Short']).sort_values(ascending=True)\n",
    "genre = genre_boxoffice.index\n",
    "\n",
    "#bar graph\n",
    "plt.bar(genre,genre_boxoffice,align='center')\n",
    "plt.xticks(rotation=90)\n",
    "plt.xlabel('Genre')\n",
    "plt.ylabel('Average Box Office Sales (mil)')\n",
    "plt.title('Average Box Office Sales of Each Genre')\n",
    "\n"
   ]
  },
  {
   "cell_type": "code",
   "execution_count": null,
   "metadata": {},
   "outputs": [],
   "source": []
  }
 ],
 "metadata": {
  "kernelspec": {
   "display_name": "Python 3 (ipykernel)",
   "language": "python",
   "name": "python3"
  },
  "language_info": {
   "codemirror_mode": {
    "name": "ipython",
    "version": 3
   },
   "file_extension": ".py",
   "mimetype": "text/x-python",
   "name": "python",
   "nbconvert_exporter": "python",
   "pygments_lexer": "ipython3",
   "version": "3.10.9"
  }
 },
 "nbformat": 4,
 "nbformat_minor": 2
}
